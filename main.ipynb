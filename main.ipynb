{
 "cells": [
  {
   "cell_type": "markdown",
   "metadata": {},
   "source": [
    "## Libraries Used\n",
    "\n",
    "- `pandas`: Used for data manipulation and analysis.\n",
    "- `tensorflow`: A powerful library for building and training machine learning models, especially neural networks.\n",
    "- `scikit-learn`: A popular library for traditional machine learning algorithms, useful for preprocessing, model selection, and more.\n"
   ]
  },
  {
   "cell_type": "code",
   "execution_count": 1,
   "metadata": {},
   "outputs": [
    {
     "name": "stdout",
     "output_type": "stream",
     "text": [
      "All packages are imported successfully!\n"
     ]
    }
   ],
   "source": [
    "import pandas as pd\n",
    "import tensorflow as tf\n",
    "import sklearn\n",
    "\n",
    "print(\"All packages are imported successfully!\")\n"
   ]
  },
  {
   "cell_type": "markdown",
   "metadata": {},
   "source": [
    "# Note on Independent Code Execution in Jupyter Notebook\n",
    "One reason I encountered an issue running pd.read_csv() in a cell below was due to Jupyter Notebook’s independent cell execution. In Jupyter, each cell operates independently, which means that any variables, imports, or code defined in one cell won’t be recognized in another unless that cell has already been executed in the current session.\n",
    "\n",
    "To ensure that the code in a cell below can recognize pd from pandas, I need to execute the cell with import pandas as pd first (click the “Run” button for that cell). This way, Jupyter registers pd, making it available for subsequent cells."
   ]
  },
  {
   "cell_type": "code",
   "execution_count": null,
   "metadata": {},
   "outputs": [],
   "source": [
    "#Load the data set to be useable later under `data`\n",
    "#pd.read_csv is a meathod from the pandas library to read CSVs\n",
    "data = pd.read_csv('nutrition.csv')\n",
    "#print the first few rows to check whatsup\n",
    "print(data.head())"
   ]
  },
  {
   "cell_type": "code",
   "execution_count": 4,
   "metadata": {},
   "outputs": [
    {
     "name": "stdout",
     "output_type": "stream",
     "text": [
      "saturated_fat    1590\n",
      "dtype: int64\n"
     ]
    }
   ],
   "source": [
    "#checks for missing values in each column\n",
    "missing_values = data.isnull().sum()\n",
    "#display colimns with missing values only\n",
    "missing_values = missing_values[missing_values > 0]\n",
    "print(missing_values)"
   ]
  },
  {
   "cell_type": "markdown",
   "metadata": {},
   "source": [
    "# What Each Line Does:\n",
    "data.isnull(): Creates a DataFrame of the same size as data, where each cell contains True if the corresponding cell in data is missing, and False otherwise.\n",
    "\n",
    ".sum(): Adds up all True values (counting them as 1) to get the total number of missing values per column.\n",
    "\n",
    "missing_values[missing_values > 0]: Filters out columns with no missing values, so we only see the columns that require attention."
   ]
  },
  {
   "cell_type": "code",
   "execution_count": 11,
   "metadata": {},
   "outputs": [
    {
     "name": "stdout",
     "output_type": "stream",
     "text": [
      "0\n"
     ]
    }
   ],
   "source": [
    "#Ensuring the data is getting read as a String type so we can manipulate the 'g' out of it later\n",
    "data['saturated_fat'] = data['saturated_fat'].astype(str)\n",
    "# Remove the \"g\" from each entry in 'saturated_fat' and convert the result to numeric\n",
    "data['saturated_fat'] = data['saturated_fat'].str.replace('g', '', regex=True)\n",
    "data['saturated_fat'] = pd.to_numeric(data['saturated_fat'], errors='coerce')\n",
    "#Calculate the mean of the column to feed into the null values of staturated fats, while ignoring the NaN values\n",
    "mean_staturated_fat = data['saturated_fat'].mean()\n",
    "\n",
    "#Fill missing values in 'saturated_dat' with the calculated mean\n",
    "data['saturated_fat'] = data['saturated_fat'].fillna(mean_staturated_fat)  # Direct assignment\n",
    "\n",
    "#Verifying that there are no more missing values left in the 'saturated fat column'\n",
    "print(data['saturated_fat'].isnull().sum())"
   ]
  },
  {
   "cell_type": "markdown",
   "metadata": {},
   "source": [
    "What I did above was clean the csv so I can manipulate it later\n",
    "\n",
    "Specifcally...\n",
    "\n",
    "- I had to change the g in the saturated fats to be able to handle all the null values (first I changed the column to (str) ) \n",
    "- Then I was able to change g into ' ' using regex\n",
    "- Then I had to change the data type into a int\n",
    "- Thing I was able to calculate the avarage all all the filled in numbs for the sat_fat total \n",
    "- Then I replaced all the blank values with the mean \n",
    "- Did this because when running reports the mean to fill in the blanks wont ruin the data set"
   ]
  }
 ],
 "metadata": {
  "kernelspec": {
   "display_name": ".venv",
   "language": "python",
   "name": "python3"
  },
  "language_info": {
   "codemirror_mode": {
    "name": "ipython",
    "version": 3
   },
   "file_extension": ".py",
   "mimetype": "text/x-python",
   "name": "python",
   "nbconvert_exporter": "python",
   "pygments_lexer": "ipython3",
   "version": "3.10.1"
  }
 },
 "nbformat": 4,
 "nbformat_minor": 2
}
